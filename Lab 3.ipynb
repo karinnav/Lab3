{
 "cells": [
  {
   "cell_type": "markdown",
   "metadata": {},
   "source": [
    "# Lab 3 due 9/12/2018"
   ]
  },
  {
   "cell_type": "markdown",
   "metadata": {},
   "source": [
    "For this lab, we needed to count the number of times each word appears in romeoandjuliet.txt.  To do this, I need to extract all words in the text file and then sort them into a dictionary of unique words.  The dictionary's keys would be the unique words and the values would be the number of times the word is in the text file.\n",
    "\n",
    "In order to extract the words from the text file, I need to:\n",
    "-Translate all punctuation (minus apostrophes) that separate words in the document into white space.  I am including words that include \n",
    "apostrophes as their own word, i.e. \"don't\".\n",
    "-Split the resulting text file into words, using white space as a delimiter.\n",
    "-Add these words *lowercased* to a list of words.\n",
    "-Iterate through the list of all words and count how many times each word appears.\n",
    "-Add the word and count to a dictionary."
   ]
  },
  {
   "cell_type": "code",
   "execution_count": 36,
   "metadata": {},
   "outputs": [
    {
     "name": "stdout",
     "output_type": "stream",
     "text": [
      "Stored 'distinctwords' (dict)\n"
     ]
    },
    {
     "data": {
      "image/png": "[encoded data removed]",
      "text/plain": [
       "<Figure size 432x288 with 1 Axes>"
      ]
     },
     "metadata": {},
     "output_type": "display_data"
    }
   ],
   "source": [
    "import numpy as np\n",
    "%matplotlib inline\n",
    "import matplotlib.pyplot as plt\n",
    "import sys\n",
    "import string\n",
    "from string import maketrans\n",
    "\n",
    "#translating all punctuation (excluding apostrophe's) in the text to spaces\n",
    "infile = open(\"romeoandjuliet.txt\")\n",
    "intab = \",:;.-?!][)(\"\n",
    "outtab = \"           \"\n",
    "table = maketrans(intab, outtab) #maketrans creates a translation table\n",
    "\n",
    "#alltext words is list of all the words used in the text in the order they appear\n",
    "alltextwords = []\n",
    "for line in infile:\n",
    "    #Using the translate function and the table above maketrans\n",
    "    line = line.translate(table)\n",
    "    #separating the words using spaces and putting then into list words\n",
    "    words = line.split()\n",
    "    for word in words:\n",
    "        #making each word lowercase to be able to count disctinct words, a not case sensitive list\n",
    "        word = word.lower() \n",
    "        alltextwords.append(word) #list of words that appear in text\n",
    "\n",
    "#need to make a dictionary of distinct words in the text, with number of \n",
    "#times that words is used as the value.\n",
    "distinctwords = {}\n",
    "\n",
    "for word in alltextwords:\n",
    "    wordnum = alltextwords.count(word)\n",
    "    if word not in distinctwords.keys():\n",
    "        distinctwords[word]=wordnum;\n",
    "%store distinctwords        \n",
    "\n",
    "plt.bar(height = distinctwords.values(), x = range(len(distinctwords.values())))\n",
    "#plt.xticks(range(len(distinctwords.values())), list(distinctwords.keys()))\n",
    "plt.axis([0,4000,0,500])\n",
    "plt.title(\"Number of Times Words are Used in Romeo and Juliet\")\n",
    "plt.ylabel(\"Frequency\")\n",
    "plt.xlabel(\"Word Identifier\")\n",
    "plt.show()"
   ]
  },
  {
   "cell_type": "markdown",
   "metadata": {},
   "source": [
    "In the plot above, each word represent a unique word.  The plot above is used to show the distribution of word frequency rather than the actual words and their word count.\n",
    "\n",
    "Using the dictionary above, I can make a list of word counts and sort it in ascendinding order.\n",
    "\n",
    "To find the 10 most used words, I can take the last 10 values in the list and find the corresponding words.\n",
    "\n",
    "To find the 10 least used words, I can take the first 10 values in the list and find the corresponding words.  \n",
    "*As there are more than 10 words that have the lowest values in the list, 1, I took only the first 10 words in the dictionary with this value.\n"
   ]
  },
  {
   "cell_type": "code",
   "execution_count": 18,
   "metadata": {},
   "outputs": [
    {
     "name": "stdout",
     "output_type": "stream",
     "text": [
      "top words:\n",
      "['my', 'is', 'in', 'the', 'that', 'and', 'of', 'to', 'a', 'i']\n",
      "bottom words:\n",
      "['gossamer', 'ladybird', 'demand', 'needful', 'blisters', 'hanging', 'appetite', 'captain', 'clasps', 'swan']\n"
     ]
    }
   ],
   "source": [
    "listValues = sorted(distinctwords.values())\n",
    "\n",
    "top10Values = listValues[-10:]\n",
    "top10Words=[]\n",
    "for key, value in distinctwords.items():\n",
    "    if value in top10Values:\n",
    "        top10Words.append(key)\n",
    "print(\"top words:\")\n",
    "print(top10Words)\n",
    "\n",
    "bottom10Values = listValues[:10]\n",
    "bottom10Words=[]\n",
    "for key, value in distinctwords.items():\n",
    "    if (value in bottom10Values and len(bottom10Words) <= 9):\n",
    "        bottom10Words.append(key)\n",
    "print(\"bottom words:\")\n",
    "print(bottom10Words)"
   ]
  },
  {
   "cell_type": "markdown",
   "metadata": {},
   "source": [
    "These top 10 and bottom 10 words show that mostly pronouns and prepositions are used frequently in this text.  The bottom 10 words are mostly nouns and are not literal ones used in the text.\n",
    "\n",
    "I can then sort the dictionary by values in reverse order and plot them in a bar graph.  The x-axis represents the rank (from most used to least used).  Both axes are formatted to log scales."
   ]
  },
  {
   "cell_type": "code",
   "execution_count": 40,
   "metadata": {},
   "outputs": [
    {
     "data": {
      "image/png": "[encoded data removed]",
      "text/plain": [
       "<Figure size 432x288 with 1 Axes>"
      ]
     },
     "metadata": {},
     "output_type": "display_data"
    }
   ],
   "source": [
    "from collections import OrderedDict\n",
    "orderDW = OrderedDict(sorted(distinctwords.items(), key=lambda t: t[1], reverse= True))\n",
    "line_out = plt.bar(height = orderDW.values(), x = range(len(listValues)))\n",
    "plt.xlabel(\"Word Rank\")\n",
    "plt.ylabel(\"Frequency\")\n",
    "plt.yscale('log')\n",
    "plt.xscale('log')"
   ]
  },
  {
   "cell_type": "markdown",
   "metadata": {},
   "source": [
    "This plot shows that there are more words used at a lower frequency than are used at a higher one.  There is a big diversity of words used in the text file."
   ]
  }
 ],
 "metadata": {
  "kernelspec": {
   "display_name": "Python 2",
   "language": "python",
   "name": "python2"
  },
  "language_info": {
   "codemirror_mode": {
    "name": "ipython",
    "version": 2
   },
   "file_extension": ".py",
   "mimetype": "text/x-python",
   "name": "python",
   "nbconvert_exporter": "python",
   "pygments_lexer": "ipython2",
   "version": "2.7.15"
  }
 },
 "nbformat": 4,
 "nbformat_minor": 2
}
